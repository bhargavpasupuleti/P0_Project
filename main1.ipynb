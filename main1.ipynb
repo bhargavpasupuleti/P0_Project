{
 "cells": [
  {
   "cell_type": "code",
   "execution_count": 2,
   "id": "b6c38ce7-8853-4fd4-8cd7-5608a80da734",
   "metadata": {},
   "outputs": [],
   "source": [
    "# Import necessary modules\n",
    "from Data_Processing.database import connect_to_database, create_database\n",
    "from Data_Processing.data_loader import load_json_data\n",
    "from Data_Processing.table_creation import create_table, insert_data\n",
    "import os\n",
    "from dotenv import load_dotenv\n",
    "load_dotenv()\n",
    "password = os.getenv(\"PASSWORD\")\n"
   ]
  },
  {
   "cell_type": "code",
   "execution_count": 3,
   "id": "43041992-97e8-407c-9a33-9b64342bcc9c",
   "metadata": {},
   "outputs": [],
   "source": [
    "# Connect to the default database\n",
    "conn = connect_to_database(host=\"127.0.0.1\", user=\"root\", password=password)\n",
    "conn.autocommit = True\n",
    "cur = conn.cursor()"
   ]
  },
  {
   "cell_type": "code",
   "execution_count": 4,
   "id": "1c083a43-f653-4f7a-bcf5-d9729aa0aaca",
   "metadata": {},
   "outputs": [],
   "source": [
    "# Create the Company9 database\n",
    "create_database(cur, \"Company13\")\n",
    "\n",
    "# Close the connection to the default database\n",
    "cur.close()\n",
    "conn.close()\n",
    "\n",
    "# Reconnect to the newly created Company7 database\n",
    "conn = connect_to_database(host=\"127.0.0.1\", user=\"root\", password=password, database=\"Company13\")\n",
    "cur = conn.cursor()"
   ]
  },
  {
   "cell_type": "code",
   "execution_count": 5,
   "id": "b624ac28-266a-4673-a339-b81007b5ea87",
   "metadata": {},
   "outputs": [],
   "source": [
    "# Define and create the necessary tables\n",
    "customer_table_sql = \"\"\"\n",
    "CREATE TABLE IF NOT EXISTS Customer (\n",
    "    customer_id INT PRIMARY KEY,\n",
    "    customer_name VARCHAR(255),\n",
    "    country VARCHAR(100),\n",
    "    city VARCHAR(100)\n",
    ");\n",
    "\"\"\"\n",
    "\n",
    "ecommerce_table_sql = \"\"\"\n",
    "CREATE TABLE IF NOT EXISTS EcommerceWebsite (\n",
    "    website_id INT PRIMARY KEY AUTO_INCREMENT,\n",
    "    ecommerce_website_name VARCHAR(255) UNIQUE\n",
    ");\n",
    "\"\"\"\n",
    "\n",
    "product_table_sql = \"\"\"\n",
    "CREATE TABLE IF NOT EXISTS Product (\n",
    "    product_id INT PRIMARY KEY,\n",
    "    product_name VARCHAR(255),\n",
    "    product_category VARCHAR(100),\n",
    "    price DECIMAL(10, 2)\n",
    ");\n",
    "\"\"\"\n",
    "\n",
    "order_table_sql = \"\"\"\n",
    "CREATE TABLE IF NOT EXISTS Orders (\n",
    "    order_id INT PRIMARY KEY,\n",
    "    customer_id INT,\n",
    "    product_id INT,\n",
    "    qty INT,\n",
    "    datetime TEXT,\n",
    "    ecommerce_website_name VARCHAR(255),\n",
    "    FOREIGN KEY (customer_id) REFERENCES Customer(customer_id),\n",
    "    FOREIGN KEY (product_id) REFERENCES Product(product_id),\n",
    "    FOREIGN KEY (ecommerce_website_name) REFERENCES EcommerceWebsite(ecommerce_website_name)\n",
    ");\n",
    "\"\"\"\n",
    "\n",
    "payment_table_sql = \"\"\"\n",
    "CREATE TABLE IF NOT EXISTS Payment (\n",
    "    payment_txn_id VARCHAR(255) PRIMARY KEY,\n",
    "    order_id INT,\n",
    "    payment_type VARCHAR(50),\n",
    "    payment_txn_success CHAR(1),\n",
    "    failure_reason VARCHAR(255),\n",
    "    FOREIGN KEY (order_id) REFERENCES Orders(order_id)\n",
    ");\n",
    "\"\"\""
   ]
  },
  {
   "cell_type": "code",
   "execution_count": 6,
   "id": "4b52bcfa-bc13-436f-9ba1-def5ca4e5c1c",
   "metadata": {},
   "outputs": [],
   "source": [
    "# Execute the table creation SQL commands\n",
    "create_table(cur, customer_table_sql)\n",
    "create_table(cur, ecommerce_table_sql)\n",
    "create_table(cur, product_table_sql)\n",
    "create_table(cur, order_table_sql)\n",
    "create_table(cur, payment_table_sql)\n",
    "\n",
    "# Commit the changes\n",
    "conn.commit()"
   ]
  },
  {
   "cell_type": "code",
   "execution_count": 7,
   "id": "fb89eb99-22c3-453e-ae83-82d98fc5be5d",
   "metadata": {},
   "outputs": [],
   "source": [
    "# Load data from JSON files\n",
    "customer_data = load_json_data(\"DataSets/customers.json\")\n",
    "transaction_data = load_json_data(r\"DataSets/transaction_logs.json\")"
   ]
  },
  {
   "cell_type": "code",
   "execution_count": 8,
   "id": "161638c4-dbcf-41c9-a741-f86eb135acc6",
   "metadata": {},
   "outputs": [],
   "source": [
    "# Insert data into Customer table\n",
    "customer_insert_query = \"\"\"\n",
    "INSERT INTO Customer (customer_id, customer_name, country, city)\n",
    "VALUES (%s, %s, %s, %s);\n",
    "\"\"\"\n",
    "for i, row in customer_data.iterrows():\n",
    "    cur.execute(customer_insert_query, list(row))\n",
    "conn.commit()"
   ]
  },
  {
   "cell_type": "code",
   "execution_count": 9,
   "id": "9d41d111-10f8-4796-8a1d-0d09f38c8c87",
   "metadata": {},
   "outputs": [],
   "source": [
    "# Prepare and insert data into Product table\n",
    "product_table = transaction_data[[\"product_id\", \"product_name\", \"product_category\", \"price\"]].drop_duplicates(subset=['product_id'])\n",
    "product_insert_query = \"\"\"\n",
    "INSERT INTO Product (product_id, product_name, product_category, price)\n",
    "VALUES (%s, %s, %s, %s);\n",
    "\"\"\"\n",
    "for i, row in product_table.iterrows():\n",
    "    cur.execute(product_insert_query, list(row))\n",
    "conn.commit()"
   ]
  },
  {
   "cell_type": "code",
   "execution_count": 10,
   "id": "bb144cc3-749a-4c0f-aa8e-ecb389cb633a",
   "metadata": {},
   "outputs": [],
   "source": [
    "# Prepare and insert data into EcommerceWebsite table\n",
    "ecommerce_website_table = transaction_data[[\"ecommerce_website_name\"]].drop_duplicates()\n",
    "ecommerce_insert_query = \"\"\"\n",
    "INSERT INTO EcommerceWebsite (ecommerce_website_name)\n",
    "VALUES (%s);\n",
    "\"\"\"\n",
    "for i, row in ecommerce_website_table.iterrows():\n",
    "    cur.execute(ecommerce_insert_query, list(row))\n",
    "conn.commit()\n"
   ]
  },
  {
   "cell_type": "code",
   "execution_count": 11,
   "id": "ee780423-665b-4fc6-946b-4329f9c8a5e2",
   "metadata": {},
   "outputs": [],
   "source": [
    "# Prepare and insert data into Orders table\n",
    "orders_table = transaction_data[[\"order_id\", \"customer_id\", \"product_id\", \"qty\", \"datetime\", \"ecommerce_website_name\"]]\n",
    "order_insert_query = \"\"\"\n",
    "INSERT INTO Orders (order_id, customer_id, product_id, qty, datetime, ecommerce_website_name)\n",
    "VALUES (%s, %s, %s, %s, %s, %s);\n",
    "\"\"\"\n",
    "for i, row in orders_table.iterrows():\n",
    "    cur.execute(order_insert_query, list(row))\n",
    "conn.commit()"
   ]
  },
  {
   "cell_type": "code",
   "execution_count": 12,
   "id": "7eb8d37b-523c-4860-b9ef-3f1ac7a902bc",
   "metadata": {},
   "outputs": [],
   "source": [
    "# Prepare and insert data into Payment table\n",
    "payment_table = transaction_data[[\"payment_txn_id\", \"order_id\", \"payment_type\", \"payment_txn_success\", \"failure_reason\"]]\n",
    "payment_insert_query = \"\"\"\n",
    "INSERT INTO Payment (payment_txn_id, order_id, payment_type, payment_txn_success, failure_reason)\n",
    "VALUES (%s, %s, %s, %s, %s);\n",
    "\"\"\"\n",
    "for i, row in payment_table.iterrows():\n",
    "    cur.execute(payment_insert_query, list(row))\n",
    "conn.commit()"
   ]
  },
  {
   "cell_type": "code",
   "execution_count": 13,
   "id": "06c33a9d-0a76-4edc-b67a-12e14b7899f9",
   "metadata": {},
   "outputs": [],
   "source": [
    "\n",
    "# Close the cursor and connection\n",
    "cur.close()\n",
    "conn.close()"
   ]
  },
  {
   "cell_type": "code",
   "execution_count": 14,
   "id": "d15ebb63-8664-4ebf-bf22-f095cdf5709e",
   "metadata": {},
   "outputs": [
    {
     "name": "stdout",
     "output_type": "stream",
     "text": [
      "Fetching records from Customer table:\n",
      "   customer_id  ...               city\n",
      "0          102  ...         Davidhaven\n",
      "1          106  ...          Paulmouth\n",
      "2          109  ...   Port Vickiemouth\n",
      "3          135  ...  Port Raymondmouth\n",
      "4          144  ...         Lake Jason\n",
      "\n",
      "[5 rows x 4 columns]\n",
      "\n",
      "\n",
      "Fetching records from EcommerceWebsite table:\n",
      "   website_id ecommerce_website_name\n",
      "0           9        www.alibaba.com\n",
      "1           6         www.amazon.com\n",
      "2           4          www.amazon.in\n",
      "3           1        www.bestbuy.com\n",
      "4          10            www.ebay.in\n",
      "\n",
      "\n",
      "Fetching records from Product table:\n",
      "   product_id      product_name product_category     price\n",
      "0         201          Song toy             Toys  36403.00\n",
      "1         202   Enjoy stationer       Stationery  26248.00\n",
      "2         203     Represent toy             Toys  47723.00\n",
      "3         206    Law electronic      Electronics   4177.00\n",
      "4         208  Issue electronic      Electronics  25652.00\n",
      "\n",
      "\n",
      "Fetching records from Orders table:\n",
      "   order_id  customer_id  ...             datetime  ecommerce_website_name\n",
      "0         1         1731  ...  2021-07-26 20:16:14         www.bestbuy.com\n",
      "1         2         5539  ...  2021-08-25 03:41:32        www.flipkart.com\n",
      "2         3         3507  ...  2024-06-21 21:39:21          www.target.com\n",
      "3         4         4826  ...  2022-09-17 13:52:11           www.amazon.in\n",
      "4         5         6538  ...  2022-03-09 07:58:08            www.etsy.com\n",
      "\n",
      "[5 rows x 6 columns]\n",
      "\n",
      "\n",
      "Fetching records from Payment table:\n",
      "  payment_txn_id  order_id  ... payment_txn_success       failure_reason\n",
      "0       00028b2b      3406  ...                   N          Invalid CVV\n",
      "1       000371fc      4060  ...                   Y                     \n",
      "2       0009553e      1445  ...                   Y                     \n",
      "3       00182d3e      2906  ...                   Y                     \n",
      "4       001f5dec      4933  ...                   N  Transaction Timeout\n",
      "\n",
      "[5 rows x 5 columns]\n",
      "\n",
      "\n"
     ]
    }
   ],
   "source": [
    "!python Data_Processing/test_fetch_records.py Company12\n"
   ]
  },
  {
   "cell_type": "code",
   "execution_count": null,
   "id": "1a9b0360-7ec7-4587-9558-02e85a8cb3a7",
   "metadata": {},
   "outputs": [],
   "source": []
  }
 ],
 "metadata": {
  "kernelspec": {
   "display_name": "Python 3 (ipykernel)",
   "language": "python",
   "name": "python3"
  },
  "language_info": {
   "codemirror_mode": {
    "name": "ipython",
    "version": 3
   },
   "file_extension": ".py",
   "mimetype": "text/x-python",
   "name": "python",
   "nbconvert_exporter": "python",
   "pygments_lexer": "ipython3",
   "version": "3.10.1"
  }
 },
 "nbformat": 4,
 "nbformat_minor": 5
}
